{
 "cells": [
  {
   "cell_type": "markdown",
   "id": "13ad028b-72b7-43ed-aa78-96fd4e518040",
   "metadata": {
    "id": "13ad028b-72b7-43ed-aa78-96fd4e518040"
   },
   "source": [
    "# Assignment: Data Wrangling\n",
    "## `! git clone https://github.com/DS3001/wrangling`\n",
    "## Do Q2, and one of Q1 or Q3."
   ]
  },
  {
   "cell_type": "markdown",
   "id": "5735a4d4-8be8-433a-a351-70eb8002e632",
   "metadata": {
    "id": "5735a4d4-8be8-433a-a351-70eb8002e632"
   },
   "source": [
    "**Q1.** Open the \"tidy_data.pdf\" document in the repo, which is a paper called Tidy Data by Hadley Wickham.\n",
    "\n",
    "  1. Read the abstract. What is this paper about?\n",
    "  2. Read the introduction. What is the \"tidy data standard\" intended to accomplish?\n",
    "  3. Read the intro to section 2. What does this sentence mean: \"Like families, tidy datasets are all alike but every messy dataset is messy in its own way.\" What does this sentence mean: \"For a given dataset, it’s usually easy to figure out what are observations and what are variables, but it is surprisingly difficult to precisely define variables and observations in general.\"\n",
    "  4. Read Section 2.2. How does Wickham define values, variables, and observations?\n",
    "  5. How is \"Tidy Data\" defined in section 2.3?\n",
    "  6. Read the intro to Section 3 and Section 3.1. What are the 5 most common problems with messy datasets? Why are the data in Table 4 messy? What is \"melting\" a dataset?\n",
    "  7. Why, specifically, is table 11 messy but table 12 tidy and \"molten\"?\n",
    "  8. Read Section 6. What is the \"chicken-and-egg\" problem with focusing on tidy data? What does Wickham hope happens in the future with further work on the subject of data wrangling?"
   ]
  },
  {
   "cell_type": "markdown",
   "id": "98e10491",
   "metadata": {},
   "source": [
    "**1.1**: This paper is about how to create tidy datasets, which refers to datasets in which each variable is a column, each observation is a row, and each type of observational unit is a table. Tidy sets are much easier to manipulate and conduct analysis with."
   ]
  },
  {
   "cell_type": "markdown",
   "id": "accaf28c",
   "metadata": {},
   "source": [
    "**1.2**: The \"tidy data standard\" is meant to provide a standardized mthod of cleaning and organizing data sets so that it isn't necessary to reinvent the wheel every time you want to clean something."
   ]
  },
  {
   "cell_type": "markdown",
   "id": "d93386cf",
   "metadata": {},
   "source": [
    "**1.3**: The first sentence means that tidy datasets will all share the same characteristics that make them tidy, but messy datasets all have different attributes that contribute to making them messy. The second sentence refers to the fact that when looking at a dataset, it's fairly easy to identify which attributes are variables and which are observations, however the attributes that are variables in one dataset might not work as variables in another."
   ]
  },
  {
   "cell_type": "markdown",
   "id": "8528f323",
   "metadata": {},
   "source": [
    "**1.4**: He defines values as numbers or strings. He defines a variables something that contains all values that measure the same underlying attribute (like height, temperature, or duration) across units. Finally, he defines an observation as something that contains all values measured on the same unit (like a person, day, or race) across attributes."
   ]
  },
  {
   "cell_type": "markdown",
   "id": "7740c943",
   "metadata": {},
   "source": [
    "**1.5**: \"Tidy Data\" is defined as \"a standard way of mapping the meaning of a dataset to its structure.\""
   ]
  },
  {
   "cell_type": "markdown",
   "id": "25fcf067",
   "metadata": {},
   "source": [
    "**1.6**: The 5 most common problems with messy datasets are:\n",
    "- Column headers are values, not variable names.\n",
    "- Multiple variables are stored in one column.\n",
    "- Variables are stored in both rows and columns.\n",
    "- Multiple types of observational units are stored in the same table.\n",
    "- A single observational unit is stored in multiple tables.\n",
    "\n",
    "The data in Table 4 are messy both because variables form the rows and the columns and because the column headers are values. Melting refers to the process of turning columns into rows."
   ]
  },
  {
   "cell_type": "markdown",
   "id": "92e2004a",
   "metadata": {},
   "source": [
    "**1.7**: Table 11 is messy because there is a column for each possible day in the month. Table 12 is molten and tidy because each row is an observation that corresponds to the meteorological measurements for a single day, with tmin and tmax being the only variables that change between days."
   ]
  },
  {
   "cell_type": "markdown",
   "id": "6caf919e",
   "metadata": {},
   "source": [
    "**1.8**: The chicken and egg problem is that if working with tidy data is reliant on the tools used to create it, then the data is linked to and only as good as those tools. Wickham wants to build on the tiny data work by designing tools that can better work with the cognitive side of data analysis."
   ]
  },
  {
   "cell_type": "markdown",
   "id": "da879ea7-8aac-48a3-b6c2-daea56d2e072",
   "metadata": {
    "id": "da879ea7-8aac-48a3-b6c2-daea56d2e072"
   },
   "source": [
    "**Q2.** This question provides some practice cleaning variables which have common problems.\n",
    "1. Numeric variable: For `./data/airbnb_hw.csv`, clean the `Price` variable as well as you can, and explain the choices you make. How many missing values do you end up with? (Hint: What happens to the formatting when a price goes over 999 dollars, say from 675 to 1,112?)\n",
    "2. Categorical variable: For the `./data/sharks.csv` data covered in the lecture, clean the \"Type\" variable as well as you can, and explain the choices you make.\n",
    "3. Dummy variable: For the pretrial data covered in the lecture, clean the `WhetherDefendantWasReleasedPretrial` variable as well as you can, and, in particular, replace missing values with `np.nan`.\n",
    "4. Missing values, not at random: For the pretrial data covered in the lecture, clean the `ImposedSentenceAllChargeInContactEvent` variable as well as you can, and explain the choices you make. (Hint: Look at the `SentenceTypeAllChargesAtConvictionInContactEvent` variable.)"
   ]
  },
  {
   "cell_type": "code",
   "execution_count": 41,
   "id": "5dc4f7d2",
   "metadata": {},
   "outputs": [],
   "source": [
    "import pandas as pd\n",
    "import numpy as np\n",
    "import seaborn as sns"
   ]
  },
  {
   "cell_type": "code",
   "execution_count": 20,
   "id": "3a5cfd4d",
   "metadata": {},
   "outputs": [
    {
     "name": "stdout",
     "output_type": "stream",
     "text": [
      "0\n"
     ]
    }
   ],
   "source": [
    "airbnb = pd.read_csv('/Users/emorywise/Desktop/DS3001 Data/airbnb_hw.csv')\n",
    "\n",
    "airbnb['Price'] = airbnb['Price'].str.replace(',', '', regex=False) # Replacing the commas in each price so I can work with them as numbers\n",
    "airbnb['Price'] = airbnb['Price'].astype(int) # Converting prices to integers to support analysis\n",
    "print(sum( airbnb['Price'].isnull())) # Check for missing values"
   ]
  },
  {
   "cell_type": "code",
   "execution_count": 53,
   "id": "4b2bdf7a",
   "metadata": {},
   "outputs": [
    {
     "name": "stdout",
     "output_type": "stream",
     "text": [
      "['Unprovoked' 'Provoked' nan 'Watercraft']\n"
     ]
    },
    {
     "name": "stderr",
     "output_type": "stream",
     "text": [
      "/var/folders/hh/w96pyly90h552hxv5nx8c3k40000gn/T/ipykernel_97114/2516702188.py:1: DtypeWarning: Columns (10,17,18,19,20,21,24) have mixed types. Specify dtype option on import or set low_memory=False.\n",
      "  sharks = pd.read_csv('/Users/emorywise/Desktop/DS3001 Data/sharks.csv')\n"
     ]
    }
   ],
   "source": [
    "sharks = pd.read_csv('/Users/emorywise/Desktop/DS3001 Data/sharks.csv')\n",
    "\n",
    "sharks['Type'] = sharks['Type'].replace( # Replace values that mean the same thing with 'Questionable'\n",
    "    ['Unconfirmed', 'Unverified', 'Under investigation', 'Invalid', 'Questionable'], \n",
    "    np.nan)\n",
    "sharks['Type'] = sharks['Type'].replace( # Replace values that mean the same thing with 'Watercraft'\n",
    "    ['Boating', 'Boat', 'Boatomg', 'Sea Disaster'], \n",
    "    'Watercraft')\n",
    "print(sharks['Type'].unique()) # Check unique values"
   ]
  },
  {
   "cell_type": "code",
   "execution_count": 62,
   "id": "7e88356f",
   "metadata": {},
   "outputs": [
    {
     "name": "stdout",
     "output_type": "stream",
     "text": [
      "[nan  0.  1.]\n"
     ]
    }
   ],
   "source": [
    "justice = pd.read_parquet('/Users/emorywise/Desktop/DS3001 Data/justice_data.parquet')\n",
    "\n",
    "justice['WhetherDefendantWasReleasedPretrial'] = justice['WhetherDefendantWasReleasedPretrial'].replace(9,np.nan)\n",
    "print(justice['WhetherDefendantWasReleasedPretrial'].unique())"
   ]
  },
  {
   "cell_type": "code",
   "execution_count": 50,
   "id": "37f6e29a",
   "metadata": {},
   "outputs": [
    {
     "name": "stdout",
     "output_type": "stream",
     "text": [
      "0        9\n",
      "1        0\n",
      "2        1\n",
      "3        1\n",
      "4        4\n",
      "        ..\n",
      "22981    4\n",
      "22982    9\n",
      "22983    4\n",
      "22984    4\n",
      "22985    4\n",
      "Name: SentenceTypeAllChargesAtConvictionInContactEvent, Length: 22986, dtype: int64\n",
      "[9 0 1 4 2]\n",
      "[' ' '60' '12' '.985626283367556' '36' '6' '24' '5.91375770020534' '120'\n",
      " '72' '11.9917864476386' '0' '2.95687885010267' '84' '108' '300' '240'\n",
      " '180' '4' '96' '2' '54' '.328542094455852' '44' '5' '115' '132' '48'\n",
      " '258' '34' '76' '.164271047227926' '.131416837782341' '111' '9' '3'\n",
      " '1.97125256673511' '36.9856262833676' '.0657084188911704'\n",
      " '35.4928131416838' '106.492813141684' '8' '35' '18.3141683778234' '480'\n",
      " '32' '93' '234' '732' '1.16427104722793' '4.6570841889117' '21' '7'\n",
      " '4.49281314168378' '18' '600' '43.1642710472279' '179' '52' '30' '20'\n",
      " '192' '702' '14' '55' '53' '11.9055441478439' '114' '35.0061601642711'\n",
      " '68' '.657084188911704' '46.6242299794661' '102' '65' '200' '57'\n",
      " '24.3285420944559' '12.1642710472279' '117' '81.4928131416838'\n",
      " '22.4928131416838' '1980' '3.6570841889117' '56' '10' '2.79260780287474'\n",
      " '1' '47' '22' '1500' '40' '284' '11' '118' '42' '162' '156'\n",
      " '47.2956878850103' '105' '51' '246' '29' '75' '324' '360'\n",
      " '34.4804928131417' '120.328542094456' '59.9260780287474' '66'\n",
      " '59.9917864476386' '660' '51.1642710472279' '14.9568788501027'\n",
      " '3.98562628336756' '78' '228' '1.47843942505133' '62' '4.8' '86' '168'\n",
      " '23' '33' '48.0328542094456' '720' '348' '1200' '27' '49' '87' '420' '63'\n",
      " '79.9260780287474' '57.0349075975359' '49.9712525667351'\n",
      " '59.4928131416838' '17' '238.492813141684' '60.9856262833676' '126' '45'\n",
      " '158' '216' '227' '42.9568788501027' '445' '70.952772073922' '516'\n",
      " '177.82135523614' '1752' '90' '1080' '141' '4.82956878850103' '230' '31'\n",
      " '2208' '52.5133470225873' '69' '26' '33.4928131416838' '140' '131' '344'\n",
      " '219' '101' '71' '59' '58' '120.197125256674' '67' '35.4004106776181'\n",
      " '3.28542094455852' '40.1642710472279' '91' '1.7741273100616' '155'\n",
      " '34.4928131416838' '81' '92.3285420944559' '3.5482546201232' '207' '74'\n",
      " '518' '28' '8.95687885010267' '237' '404.673511293634' '18.1642710472279'\n",
      " '10.7433264887064' '551' '39' '15' '124' '43' '176' '19.4928131416838'\n",
      " '482' '129' '88' '46' '45.8542094455852' '128.628336755647'\n",
      " '136.492813141684' '108.328542094456' '50' '363.663244353183' '288' '250'\n",
      " '107' '81.0225872689938' '444' '205' '10.6570841889117' '19'\n",
      " '66.9856262833676' '38.4928131416838' '264' '276' '173' '222' '144' '294'\n",
      " '336' '431' '450' '73' '99.3285420944559' '128' '30.8069815195072'\n",
      " '31.5256673511294' '127' '202' '55.3285420944559' '89' '242'\n",
      " '1.31416837782341' '1029' '.788501026694045' '194.858316221766' '399'\n",
      " '39.6570841889117' '56.95687885' '198' '120.985626283368'\n",
      " '47.6570841889117' '148' '6.8993839835729' '65.3285420944559'\n",
      " '5.95277207392197' '.0985626283367557' '3.32854209445585'\n",
      " '3.94250513347023' '12.9856262833676' '6.98562628336756'\n",
      " '13.1498973305955' '15.1642710472279' '17.1971252566735'\n",
      " '17.9137577002053' '104' '212' '24.6570841889117' '72.6570841889117'\n",
      " '2.98562628336756' '144.985626283368' '31.9712525667351' '183'\n",
      " '4.98562628336756' '11.8213552361396' '252' '12.394250513347'\n",
      " '42.4928131416838' '10.1642710472279' '11.1642710472279'\n",
      " '5.49281314168378' '59.6632443531827' '12.3285420944559'\n",
      " '48.9856262833676' '240.985626283368' '2.6570841889117' '540'\n",
      " '2.97125256673511' '6.32854209445585' '23.6632443531828'\n",
      " '133.657084188912' '35.3285420944559' '456' '103' '1.72279260780287'\n",
      " '12.6570841889117' '11.6570841889117' '60.3285420944559'\n",
      " '3.78850102669405' '576' '2.13141683778234' '492' '14.9856262833676'\n",
      " '24.9856262833676' '61.9712525667351' '5.6570841889117' '16'\n",
      " '42.1642710472279' '.492813141683778' '138' '13.3141683778234'\n",
      " '11.8932238193018' '5.32854209445585' '95' '62.6570841889117'\n",
      " '3.08829568788501' '11.8275154004107' '1.64271047227926'\n",
      " '47.9917864476386' '4.27104722792608' '8.32854209445585'\n",
      " '3.31416837782341' '70' '77' '1.09856262833676' '48.1642710472279'\n",
      " '27.4928131416838' '6.93839835728953' '1011' '.68993839835729'\n",
      " '1.1170431211499' '1.49281314168378' '4.16427104722793'\n",
      " '1.19712525667351' '4.07392197125257' '188' '11.3285420944559'\n",
      " '.0328542094455852' '432' '11.952772073922' '36.4928131416838'\n",
      " '23.9835728952772' '9.98562628336756' '98' '36.3285420944559' '112'\n",
      " '.394250513347023' '13' '.262833675564682' '13.7987679671458'\n",
      " '5.8870636550308' '354' '5.91991786447639' '24.1642710472279'\n",
      " '62.95687885' '4.59958932238193' '123' '2.32854209445585'\n",
      " '23.9240246406571' '204' '197' '174' '16.1498973305955' '840' '440'\n",
      " '98.95687885' '17.952772073922' '63.9425051334702' '60.1314168377823'\n",
      " '12.1314168377823' '172.952772073922' '.197125256673511'\n",
      " '138.164271047228' '4.92813141683778' '.919917864476386'\n",
      " '18.9856262833676' '6.6570841889117' '2.85420944558522'\n",
      " '8.91375770020534' '146' '12.4928131416838' '.558521560574949'\n",
      " '.722792607802875' '5.82135523613963' '84.9856262833676'\n",
      " '6.16427104722793' '15.9856262833676' '64.5585215605749'\n",
      " '38.299794661191' '11.958932238193' '3.1211498973306' '126.328542094456'\n",
      " '5.16427104722793' '64' '42.6570841889117' '312' '19.9712525667351'\n",
      " '82.3285420944559' '23.9712525667351' '17.6242299794661'\n",
      " '121.971252566735' '59.6550308008214' '1.32854209445585'\n",
      " '7.97125256673511' '1.91991786447639' '.525667351129363'\n",
      " '9.32854209445585' '42.9856262833676' '41.9137577002053'\n",
      " '72.9856262833676' '12.4784394250513' '5.19096509240246' '473'\n",
      " '16.6570841889117' '109' '86.3285420944559' '41' '1.90554414784394'\n",
      " '94.1642710472279' '302' '4.39425051334702' '10.8213552361396'\n",
      " '18.3285420944559' '154' '83' '110.956878850103' '226' '96.0328542094456'\n",
      " '4.82135523613963' '30.3285420944559' '37.9712525667351'\n",
      " '50.4640657084189' '286' '99' '99.4928131416838' '2.6611909650924'\n",
      " '70.9712525667351' '13.9712525667351' '23.6570841889117'\n",
      " '.459958932238193' '132.492813141684' '283' '49.3141683778234'\n",
      " '27.9856262833676' '38' '7.6570841889117' '83.6550308008214'\n",
      " '10.9199178644764' '162.328542094456' '37' '132.328542094456'\n",
      " '35.952772073922' '165' '10.9856262833676' '20.1642710472279'\n",
      " '2.59137577002053' '175' '180.985626283368' '10.3285420944559'\n",
      " '36.1642710472279' '120.657084188912' '232' '152' '8.98562628336756'\n",
      " '167' '11.0657084188912' '11.2032854209446' '5.19712525667351'\n",
      " '3.16427104722793' '60.1642710472279' '1.18275154004107'\n",
      " '21.1642710472279' '2.19712525667351' '4.19712525667351'\n",
      " '2.62833675564682' '119.952772073922' '119.958932238193'\n",
      " '9.49281314168378' '5.25667351129363' '15.3285420944559'\n",
      " '2.82135523613963' '192.985626283368' '48.6570841889117'\n",
      " '5.95687885010267' '2.29979466119097' '960' '2.36550308008214' '116'\n",
      " '19.5133470225873' '1.6570841889117']\n"
     ]
    }
   ],
   "source": [
    "print(justice['SentenceTypeAllChargesAtConvictionInContactEvent'])\n",
    "print(justice['SentenceTypeAllChargesAtConvictionInContactEvent'].unique())\n",
    "print(justice['ImposedSentenceAllChargeInContactEvent'].unique())"
   ]
  },
  {
   "cell_type": "code",
   "execution_count": 71,
   "id": "00e32c13",
   "metadata": {},
   "outputs": [
    {
     "name": "stdout",
     "output_type": "stream",
     "text": [
      "9053\n",
      "SentenceTypeAllChargesAtConvictionInContactEvent     0     1    2     4    9\n",
      "ImposedSentenceAllChargeInContactEvent                                      \n",
      "False                                             8720  4299  914     0    0\n",
      "True                                                 0     0    0  8779  274 \n",
      "\n",
      "274\n"
     ]
    }
   ],
   "source": [
    "length = justice['ImposedSentenceAllChargeInContactEvent'] # Isolate the length variable\n",
    "type = justice['SentenceTypeAllChargesAtConvictionInContactEvent'] # Isolate the type variable\n",
    "\n",
    "length = pd.to_numeric(length, errors='coerce') # Convert length to numeric for analysis\n",
    "missing_values = length.isnull().sum() # 9053 missing\n",
    "print(missing_values)\n",
    "\n",
    "length_NA = length.isnull() # Create a dummy variable for the missing values\n",
    "print( pd.crosstab(length_NA, type), '\\n') # Utilize type dataframe to clarify values in length\n",
    "\n",
    "length = length.mask( type == 4, 0) # Replace length with 0 when type ==4\n",
    "length = length.mask( type == 9, np.nan) # Replace length with np.nan when type == 9\n",
    "\n",
    "missing_values = length.isnull().sum() # 274 missing\n",
    "print(missing_values)\n",
    "\n",
    "justice['ImposedSentenceAllChargeInContactEvent'] = length # Replace data with cleaned version"
   ]
  },
  {
   "cell_type": "markdown",
   "id": "649494cd-cfd6-4f80-992a-9994fc19e1d5",
   "metadata": {
    "id": "649494cd-cfd6-4f80-992a-9994fc19e1d5"
   },
   "source": [
    "**Q3.** Many important datasets contain a race variable, typically limited to a handful of values often including Black, White, Asian, Latino, and Indigenous. This question looks at data gathering efforts on this variable by the U.S. Federal government.\n",
    "\n",
    "1. How did the most recent US Census gather data on race?\n",
    "2. Why do we gather these data? What role do these kinds of data play in politics and society? Why does data quality matter?\n",
    "3. Please provide a constructive criticism of how the Census was conducted: What was done well? What do you think was missing? How should future large scale surveys be adjusted to best reflect the diversity of the population? Could some of the Census' good practices be adopted more widely to gather richer and more useful data?\n",
    "4. How did the Census gather data on sex and gender? Please provide a similar constructive criticism of their practices.\n",
    "5. When it comes to cleaning data, what concerns do you have about protected characteristics like sex, gender, sexual identity, or race? What challenges can you imagine arising when there are missing values? What good or bad practices might people adopt, and why?\n",
    "6. Suppose someone invented an algorithm to impute values for protected characteristics like race, gender, sex, or sexuality. What kinds of concerns would you have?"
   ]
  }
 ],
 "metadata": {
  "colab": {
   "provenance": []
  },
  "kernelspec": {
   "display_name": "Python 3 (ipykernel)",
   "language": "python",
   "name": "python3"
  },
  "language_info": {
   "codemirror_mode": {
    "name": "ipython",
    "version": 3
   },
   "file_extension": ".py",
   "mimetype": "text/x-python",
   "name": "python",
   "nbconvert_exporter": "python",
   "pygments_lexer": "ipython3",
   "version": "3.8.8"
  }
 },
 "nbformat": 4,
 "nbformat_minor": 5
}
